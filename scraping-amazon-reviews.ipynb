{
 "cells": [
  {
   "cell_type": "code",
   "execution_count": 168,
   "id": "aec36bd9-5988-493a-a34f-5941fcb4571b",
   "metadata": {},
   "outputs": [],
   "source": [
    "import urllib \n",
    "from bs4 import BeautifulSoup\n",
    "import requests\n",
    "import pandas as pd \n",
    "import re"
   ]
  },
  {
   "cell_type": "code",
   "execution_count": 182,
   "id": "e90d1caf-dcda-43f8-bdf3-ee4fe0ac4578",
   "metadata": {},
   "outputs": [],
   "source": [
    "HEADERS = ({'User-Agent':\n",
    "            'Mozilla/5.0 (Windows NT 10.0; Win64; x64) \\\n",
    "            AppleWebKit/537.36 (KHTML, like Gecko) \\\n",
    "            Chrome/90.0.4430.212 Safari/537.36',\n",
    "            'Accept-Language': 'en-US, en;q=0.5'})\n",
    "  \n",
    "# Scrape the data\n",
    "def getdata(url):\n",
    "    r = requests.get(url, headers=HEADERS)\n",
    "    return r.text\n",
    "\n",
    "\n",
    "# display html code\n",
    "def html_code(url):\n",
    "    page = getdata(url)\n",
    "    soup = BeautifulSoup(page, 'html.parser')\n",
    "    return (soup)\n",
    "  \n",
    "  \n",
    "url = \"https://www.amazon.ca/AmazonBasics-Executive-Computer-350-Pound-Capacity/dp/B081HMS8YK/ref=pd_rhf_d_ee_s_pd_sbs_rvi_sccl_2_1/144-9975682-9982354?pd_rd_w=MvWnq&content-id=amzn1.sym.c4b12d63-26ee-451b-a00e-167063525dc5&pf_rd_p=c4b12d63-26ee-451b-a00e-167063525dc5&pf_rd_r=1V5Y5618XP735CV4ZB89&pd_rd_wg=s7x1x&pd_rd_r=0c11b69b-d926-4c22-acd5-1bf43a7e1034&pd_rd_i=B081HMS8YK&psc=1\"\n",
    "  \n",
    "soup = html_code(url)\n",
    "#print(soup)"
   ]
  },
  {
   "cell_type": "code",
   "execution_count": 177,
   "id": "2e7073c8-a850-48ae-91e3-3ffcdc5d1de0",
   "metadata": {},
   "outputs": [
    {
     "name": "stdout",
     "output_type": "stream",
     "text": [
      "['Undisclosed', 'Nathalie Daudelin', 'Ramatoulaye Mbacké', 'A customer...', 'Jeff Wu', 'AD', 'Ryan', 'KJ Tampa', 'Diane F', 'Shopgirl', 'C Geiss']\n"
     ]
    }
   ],
   "source": [
    "def customer_data(soup):\n",
    "    # find the Html tag with find() and convert into string\n",
    "    data_str = \"\"\n",
    "    customer_list = []\n",
    "  \n",
    "    for item in soup.find_all(\"span\", class_=\"a-profile-name\"):\n",
    "        data_str = item.get_text()\n",
    "        customer_list.append(data_str)\n",
    "        data_str = \"\"\n",
    "    return customer_list\n",
    "  \n",
    "customer_names = customer_data(soup)\n",
    "print(customer_names)"
   ]
  },
  {
   "cell_type": "code",
   "execution_count": 175,
   "id": "5b002d2f-4e72-48cf-b82a-0073fd16d443",
   "metadata": {},
   "outputs": [
    {
     "data": {
      "text/plain": [
       "[\"My husband finds this chair comfortable and wide enough so that his hips don't rub on the sides of the arms. Great chair for the big and tall folks.\",\n",
       " \"Je passe plusieurs heures assise à mon bureau et cette chaise me convient parfaitement. Quelques difficultés lors de l'assemblage (le dossier n'est pas simple à installer), mais une fois assemblé, il est très confortable.\",\n",
       " 'Facile à rassembler! Confortable et beau',\n",
       " 'Very comfortable chair!',\n",
       " 'Easy to assemble.  Very comfortable.',\n",
       " 'Very hard to find comfortable office chairs at 6\\'2\" and 230 pounds. This one is already way better than the rest but could still be more comfortable!',\n",
       " 'I work from home and have had this chair for a month.  The seams on the back are low quality / cheap looking; after a month of use the cushions are deformed; and the chair requires height adjustments several times a day due to faulty air mechanism.  I’m not a small man; but at 200# I’m not putting unusual stress on the chair either.I am returning it today—something, with Amazon and products of this nature (expensive, large, box gone items) that I always regret.I had a chair I bought at Costco for $200 that lasted 7 years; I ordered from Amazon due to COVID and wish I never had... this chair is a piece of garbage.',\n",
       " 'TIP:  Before you start to actually assemble, put the bolts in first to prep the threads...Put each bolt in by hand to not strip the threads, then a couple of turns with the included allen wrench, in ALL of the holes.  Now remove bolts and start to assemble per instructions that are included in the box...  This is the method that should be used for assembling most things.  It makes assembly much easier...Reading the multitude of questions and reviews stating the difficulty of assembling this chair, as well as others, is the inspiration for starting this review and telling the secret...It was packaged properly in a box stating the net weight (chair) as 38.6 pounds, gross (total) weight 44.1, ...seems a bit odd for the cardboard and bubble wrap to weigh 5.5 lbs...  Box is 30.5\" wide x 15.25\" deep x 25.25\" tall.Chair was delivered before the estimated time (I have Prime and live in Tampa, FL).  The pieces inside the box were well protected according to the piece, either with bubble wrap or cardboard separators. No missing pieces.  It was delivered by Amazon truck.  With the tracking, I could see the exact position of the truck on the map, showing distance and how many stops before mine.  (NOTE: Amazon, GREAT feature!)Chair was purchased August 25, 2020 and delivered August 27, so I am not sure when they started using this blue thread lock compound on the bolts, which should eliminate the bolts from loosening.  I am happy that they did!  This is important as I have read many reviews for various chairs that state the bolts loosen with time.  (Yes, I have a bit of OCD and do a lot of research as I also buy for our office, and I tend to prefer overkill).  The box shows April 2020 as time of manufacture.I am 6\\'1\", ~250 pounds and have only used the chair for a day and a half.  My initial findings are that it is a very sturdy chair, the reclining (rocking) mechanism is great, as is the comfort and size. No side to side wobble.  For the price, I am assigning 5 stars, although this may change with time...The finish (or paint) of chair is not that durable...  Removing the packing tape, removed a small patch of the paint on the interior of one of the arms...  Small jar of paint for model cars and such, at a hobby store, is relatively cheap ($2-3) and should work for a touch up, if this bothers you.  I am sure that they are available online, however seeing the exact color in person may make for a better match.I have back problems and need a chair that can keep me in a proper upright sitting position and give support without feeling like I am going to fall backwards when putting a bit of pressure on the back, as so many chairs do.  I have adjusted the tension perfectly for this.If I want to rock like a rocking chair, it performs perfectly.  Good spring tension and seems like a strong spring was used.  It can lean back just enough to be able to comfortably put your feet up on an ottoman or the top of your desk.The lift piston holds my weight up at the highest setting, no problem.  The top of the seat in the lowest position is ~17\" from floor, highest is ~21\".  Pushing the lift lever in locks the chair in the upright position.  Pulling it out allows you to rock or lean back, your choice...  Chair also has a tension knob to adjust how easy the chair leans back or rocks.The seat is ~22\" wide between the arms and ~21\" deep (front to back).  The back is ~21\" wide at top, ~22\" at bottom by ~28\" high.  Cushioning on seat and back is ~3\" thick. It does appear to hold me up and not bottom out.  Only time will tell the truth, if it will hold up my 250 lbs....The armrests are ~2.5\" wide by ~14\" long, with padding about 1\" thick.  If I put pressure, I can feel the frame.  The end of armrests are ~6\" from end of seat and are ~7\" above seat.  You can calculate if the chair arms can fit under a desk by adding the desired height of seat and about 7.5 - 8\" for clearance of arms.Overall width of outside of armrest to outside of armrest is ~27\".SIDE NOTE:  When I ordered the chair, I also ordered the \"Everlasting Comfort Seat Cushion for Office Chair - Tailbone Pain Relief Cushion - Coccyx Cushion - Sciatica Pillow for Sitting (Black)\".  It just arrived!(And I also ordered the \"Everlasting Comfort Lumbar Support Pillow for Office Chair - Pure Memory Foam Lumbar Cushion for Car (Black)\" that is not due to be received until tomorrow.)I am not sure if I will permanently use (either/both) with this chair, however with the seat cushion on this chair, it feels like I am sitting on a cloud!  The seat cushion does fit perfectly on the chair seat and will stay positioned due to the design of the chair seat.(For the Q & A person asking if the cushion will muffle flatulence in an office environment, I don\\'t believe so as it has a cut out for the coccyx...  As far as a permanent smell, perhaps adult diapers may help you prevent that...  Just thought that I would throw that out there in case you are reading this! )It rolls reasonably well on the berber carpet in my bedroom when I want to roll back for viewing the television.  I do have a cheap chair mat under the desk that requires me to lift up the front of chair to permit the chair to get back on the mat.I might purchase a better chair mat or change casters depending upon the results of repeated use...I will update this review as time passes, disclosing any defects or changes that I may encounter.Disclaimer: I am NOT affiliated with Amazon, et al, in any way.  I pay for my product and give a review if I have the time and feel that it may help someone.  This is my experience with this chair.  I hope that it may help you!I just wanted to add, again due to reviews, just because an item is made in China, it doesn\\'t automatically mean that it is junk.  Keep in mind that they are typically made to specifications that were provided by...American engineers.  If cheap junk is spec\\'d, it will be cheap junk!Please let me know if I left any details out.  Thanks for reading, I hope that I didn\\'t bore you!  Good luck and stay safe!',\n",
       " 'Chair is nice and easy to put together.  Paddng is nice.  Only complaint is pretty big in that it tends to lean forward making you fill as if you are falling out.',\n",
       " \"This chair is not worth the price it is. A few pieces of mine were cracked and it looked used.  It doesn't tilt, it doesn't recline, it does nothing but sit.  You can adjust the tilt but it is hard to tilt back and  doesn't stay tilted unless you have something to put your feet on and push with your feet to hold it back.  There is no lock to keep it tilted, only a tilt lock to keep it upright.  It is not comfortable at al and not what is advertiseed.  I got something else at a local store after returning this and shopping around.\",\n",
       " 'I was so excited for this chair! Instructions were not easy to follow and assembly was not easy. The Allen wrench provided sucked! Most have a short side and a longer side. The arm marked L was clearly meant for the right side but listed on the directions to put on wrong side. It only fits one way, so we figured that out. The one arm would not align with holes. Holes in the chair are not aligned with cuts either. See pictures. I don’t know if we’d need a new seat or a new L arm. This was an extremely disappointing purchase that I will have to take apart what is assembled and try to rebox and take to the UPS store for a refund.']"
      ]
     },
     "execution_count": 175,
     "metadata": {},
     "output_type": "execute_result"
    }
   ],
   "source": [
    "def customer_rev(soup):\n",
    "    # find the Html tag with find() and convert into string\n",
    "    data_str = \"\"\n",
    "  \n",
    "    for item in soup.find_all(\"div\", class_=\"a-expander-content reviewText review-text-content a-expander-partial-collapse-content\"):\n",
    "        data_str = data_str + item.get_text()\n",
    "  \n",
    "    result = data_str.split(\"\\n\")\n",
    "    return (result)\n",
    "    \n",
    "rev_data = customer_rev(soup)\n",
    "#print(rev_data)\n",
    "\n",
    "review_result = []\n",
    "for i in rev_data:\n",
    "    if i == \"\":\n",
    "        pass\n",
    "    else:\n",
    "        review_result.append(i)\n",
    "        \n",
    "review_result"
   ]
  },
  {
   "cell_type": "code",
   "execution_count": 173,
   "id": "b608c293-095d-45c1-a1b8-00ff0cc1b71f",
   "metadata": {},
   "outputs": [
    {
     "name": "stdout",
     "output_type": "stream",
     "text": [
      " Item weight \n",
      " ‎35.3 Pounds \n",
      " Maximum weight recommendation \n",
      " ‎350 Pounds \n",
      " Seat material type \n",
      " ‎Leather \n",
      " Furniture base movement \n",
      " ‎Swivel \n",
      " Manufacturer \n",
      " ‎ZH5E7 \n",
      " Place of Business \n",
      " ‎Seattle, WA 98109, USA \n",
      " Model number \n",
      " ‎91163H-1 \n",
      " Material Type \n",
      " ‎Leather \n",
      " Size \n",
      " ‎6ft \n",
      " Manufacturer Part Number \n",
      " ‎91163H-1 \n",
      " ASIN B081HMS8YK \n",
      " Customer Reviews \n",
      " \n",
      " 4.1 out of 5 stars \n",
      " 374 ratings \n",
      " 4.1 out of 5 stars \n",
      " Best Sellers Rank #217,228 in Home (See Top 100 in Home) #93 in Managerial Chairs & Executive Chairs #473 in Home Office Desk Chairs \n",
      " Date First Available July 29 2020 \n"
     ]
    }
   ],
   "source": [
    "#product information\n",
    "def product_info(soup):\n",
    "  \n",
    "    # find the Html tag\n",
    "    # with find()\n",
    "    # and convert into string\n",
    "    data_str = \"\"\n",
    "    pro_info = []\n",
    "  \n",
    "    for table in soup.find_all(\"table\", class_=\"a-keyvalue prodDetTable\"):\n",
    "        for row in table.find_all('tr'):\n",
    "            pro_info.append(row.get_text().split(\"\\n\"))\n",
    "\n",
    "    return pro_info\n",
    "  \n",
    "  \n",
    "pro_result = product_info(soup)\n",
    "#print(pro_result)\n",
    "  \n",
    "# Filter the required data\n",
    "for item in pro_result:\n",
    "    for j in item:\n",
    "        if j == \"\":\n",
    "            pass\n",
    "        else:\n",
    "            j = re.sub(\" +\", \" \", j)\n",
    "            print(j)"
   ]
  },
  {
   "cell_type": "code",
   "execution_count": 179,
   "id": "e1270e4d-c1a9-4f9d-8fc9-f44f33470d9c",
   "metadata": {},
   "outputs": [
    {
     "name": "stdout",
     "output_type": "stream",
     "text": [
      "                  Name                                             Review\n",
      "0          Undisclosed  My husband finds this chair comfortable and wi...\n",
      "1    Nathalie Daudelin  Je passe plusieurs heures assise à mon bureau ...\n",
      "2   Ramatoulaye Mbacké           Facile à rassembler! Confortable et beau\n",
      "3        A customer...                            Very comfortable chair!\n",
      "4              Jeff Wu               Easy to assemble.  Very comfortable.\n",
      "5                   AD  Very hard to find comfortable office chairs at...\n",
      "6                 Ryan  I work from home and have had this chair for a...\n",
      "7             KJ Tampa  TIP:  Before you start to actually assemble, p...\n",
      "8              Diane F  Chair is nice and easy to put together.  Paddn...\n",
      "9             Shopgirl  This chair is not worth the price it is. A few...\n",
      "10             C Geiss  I was so excited for this chair! Instructions ...\n"
     ]
    }
   ],
   "source": [
    "#save the data into a csv file\n",
    "data = {'Name': customer_names,'Review': review_result}\n",
    "  \n",
    "# Create DataFrame\n",
    "df = pd.DataFrame(data)\n",
    "print(df)  \n",
    "\n",
    "# Save the output.\n",
    "df.to_csv('amazon_review.csv')"
   ]
  }
 ],
 "metadata": {
  "kernelspec": {
   "display_name": "Python 3 (ipykernel)",
   "language": "python",
   "name": "python3"
  },
  "language_info": {
   "codemirror_mode": {
    "name": "ipython",
    "version": 3
   },
   "file_extension": ".py",
   "mimetype": "text/x-python",
   "name": "python",
   "nbconvert_exporter": "python",
   "pygments_lexer": "ipython3",
   "version": "3.9.12"
  }
 },
 "nbformat": 4,
 "nbformat_minor": 5
}
